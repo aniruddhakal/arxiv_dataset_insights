{
 "cells": [
  {
   "cell_type": "code",
   "execution_count": 1,
   "id": "063a734a",
   "metadata": {},
   "outputs": [],
   "source": [
    "import torch"
   ]
  },
  {
   "cell_type": "code",
   "execution_count": 2,
   "id": "42b3acc3",
   "metadata": {},
   "outputs": [
    {
     "data": {
      "text/plain": [
       "True"
      ]
     },
     "execution_count": 2,
     "metadata": {},
     "output_type": "execute_result"
    }
   ],
   "source": [
    "torch.cuda.is_available()"
   ]
  },
  {
   "cell_type": "code",
   "execution_count": 3,
   "id": "b38c782e",
   "metadata": {},
   "outputs": [],
   "source": [
    "import pymongo\n",
    "import pandas as pd\n",
    "import numpy as np\n",
    "from pathlib import Path"
   ]
  },
  {
   "cell_type": "code",
   "execution_count": 4,
   "id": "652ece73",
   "metadata": {
    "scrolled": true
   },
   "outputs": [
    {
     "data": {
      "text/plain": [
       "Collection(Database(MongoClient(host=['localhost:21000'], document_class=dict, tz_aware=False, connect=True), 'arxiv-db'), 'arxiv-dataset-collection')"
      ]
     },
     "execution_count": 4,
     "metadata": {},
     "output_type": "execute_result"
    }
   ],
   "source": [
    "db_name = \"arxiv-db\"\n",
    "collection_name = \"arxiv-dataset-collection\"\n",
    "\n",
    "db = pymongo.MongoClient(host=\"localhost\", port=21000).get_database(db_name)\n",
    "collection = db[collection_name]\n",
    "collection"
   ]
  },
  {
   "cell_type": "code",
   "execution_count": 10,
   "id": "7d341ab0",
   "metadata": {},
   "outputs": [],
   "source": [
    "def load_data():\n",
    "    all_data_df = pd.DataFrame(collection.find({}, {\"title\", \"abstract\", \"categories\"}))\n",
    "    return all_data_df"
   ]
  },
  {
   "cell_type": "code",
   "execution_count": 11,
   "id": "1bfa4bd5",
   "metadata": {
    "scrolled": true
   },
   "outputs": [
    {
     "data": {
      "text/plain": [
       "(2258347, 4)"
      ]
     },
     "execution_count": 11,
     "metadata": {},
     "output_type": "execute_result"
    }
   ],
   "source": [
    "# Load and preprocess the ArXiv dataset\n",
    "all_data_df = load_data()\n",
    "all_data_df.shape"
   ]
  },
  {
   "cell_type": "markdown",
   "id": "76fd434a",
   "metadata": {},
   "source": [
    "### Dataset"
   ]
  },
  {
   "cell_type": "code",
   "execution_count": 68,
   "id": "fdcb2edd",
   "metadata": {},
   "outputs": [],
   "source": [
    "class ArxivDataset(Dataset):\n",
    "    def __init__(self, data: pd.DataFrame, tokenizer):\n",
    "        self.data = data\n",
    "        self.tokenizer = tokenizer\n",
    "\n",
    "    def __len__(self):\n",
    "        return len(self.data)\n",
    "\n",
    "    def __getitem__(self, index):\n",
    "        abstract = self.data.loc[index, 'abstract']\n",
    "        encoded_input = tokenizer(abstract, padding=True, truncation=True, return_tensors='pt', pad_to_multiple_of=512)\n",
    "\n",
    "        # Return a dictionary with the desired fields\n",
    "        return {\n",
    "            'input_ids': encoded_input['input_ids'].squeeze(),\n",
    "            'attention_mask': encoded_input['attention_mask'].squeeze()\n",
    "        }"
   ]
  },
  {
   "cell_type": "code",
   "execution_count": 67,
   "id": "fe3f74cd",
   "metadata": {},
   "outputs": [
    {
     "data": {
      "text/plain": [
       "'4.29.2'"
      ]
     },
     "execution_count": 67,
     "metadata": {},
     "output_type": "execute_result"
    }
   ],
   "source": [
    "import transformers\n",
    "transformers.__version__"
   ]
  },
  {
   "cell_type": "code",
   "execution_count": 69,
   "id": "f758a012",
   "metadata": {
    "scrolled": true
   },
   "outputs": [],
   "source": [
    "import torch\n",
    "from transformers import AutoTokenizer, AutoModel\n",
    "import numpy as np\n",
    "from sklearn.metrics import silhouette_score\n",
    "from torch.utils.data import Dataset, DataLoader\n",
    "from tqdm import tqdm\n",
    "\n",
    "\n",
    "def extract_embeddings(model, data_loader: DataLoader, device='cuda'):\n",
    "    embeddings = []\n",
    "    \n",
    "    with torch.no_grad():\n",
    "        for batch in tqdm(data_loader, total=len(data_loader)):\n",
    "#             input_ids = batch['input_ids'].to(device)\n",
    "#             attention_mask = batch['attention_mask'].to(device)\n",
    "            \n",
    "#             outputs = model(input_ids, attention_mask=attention_mask)\n",
    "            outputs = model(**batch)\n",
    "            embeddings.append(outputs.pooler_output.detach().cpu())\n",
    "\n",
    "    embeddings = torch.stack(embeddings)\n",
    "    return embeddings"
   ]
  },
  {
   "cell_type": "code",
   "execution_count": 70,
   "id": "0344de33",
   "metadata": {},
   "outputs": [],
   "source": [
    "def get_data_loader(tokenizer, batch_size=128):\n",
    "    dataset = ArxivDataset(data=all_data_df, tokenizer=tokenizer)\n",
    "    dataloader = DataLoader(dataset, batch_size=batch_size, shuffle=False)\n",
    "    return dataloader"
   ]
  },
  {
   "cell_type": "code",
   "execution_count": 71,
   "id": "bf2a0bc2",
   "metadata": {
    "scrolled": false
   },
   "outputs": [
    {
     "name": "stderr",
     "output_type": "stream",
     "text": [
      "Some weights of the model checkpoint at bert-base-uncased were not used when initializing BertModel: ['cls.predictions.transform.LayerNorm.weight', 'cls.predictions.decoder.weight', 'cls.predictions.transform.LayerNorm.bias', 'cls.predictions.transform.dense.bias', 'cls.predictions.transform.dense.weight', 'cls.predictions.bias', 'cls.seq_relationship.weight', 'cls.seq_relationship.bias']\n",
      "- This IS expected if you are initializing BertModel from the checkpoint of a model trained on another task or with another architecture (e.g. initializing a BertForSequenceClassification model from a BertForPreTraining model).\n",
      "- This IS NOT expected if you are initializing BertModel from the checkpoint of a model that you expect to be exactly identical (initializing a BertForSequenceClassification model from a BertForSequenceClassification model).\n"
     ]
    }
   ],
   "source": [
    "# Set up the BERT model and tokenizer\n",
    "model_name = \"bert-base-uncased\"  # You can replace this with any other BERT model\n",
    "tokenizer = AutoTokenizer.from_pretrained(model_name)\n",
    "model = AutoModel.from_pretrained(model_name)"
   ]
  },
  {
   "cell_type": "code",
   "execution_count": 72,
   "id": "1249b1d9",
   "metadata": {},
   "outputs": [],
   "source": [
    "device = torch.device(\"cuda\" if torch.cuda.is_available() else 'cpu')"
   ]
  },
  {
   "cell_type": "code",
   "execution_count": 73,
   "id": "b07ee100",
   "metadata": {},
   "outputs": [],
   "source": [
    "dataloader = get_data_loader(tokenizer=tokenizer, batch_size=128)"
   ]
  },
  {
   "cell_type": "code",
   "execution_count": null,
   "id": "a37de17a",
   "metadata": {
    "scrolled": true
   },
   "outputs": [
    {
     "name": "stderr",
     "output_type": "stream",
     "text": [
      "\r",
      "  0%|          | 0/17644 [00:00<?, ?it/s]"
     ]
    }
   ],
   "source": [
    "bert_embeddings = extract_embeddings(model=model, data_loader=dataloader, device=device)\n",
    "bert_embeddings.shape"
   ]
  },
  {
   "cell_type": "markdown",
   "id": "9006a19f",
   "metadata": {},
   "source": [
    "### SBERT"
   ]
  },
  {
   "cell_type": "code",
   "execution_count": null,
   "id": "af320d25",
   "metadata": {},
   "outputs": [],
   "source": [
    "from sentence_transformers import SentenceTransformer\n",
    "\n",
    "# Set up the Sentence-BERT model\n",
    "sbert_model = SentenceTransformer(model_name)\n",
    "\n",
    "# Extract embeddings using SBERT\n",
    "embeddings = extract_embeddings(abstracts, sbert_model, tokenizer)"
   ]
  },
  {
   "cell_type": "code",
   "execution_count": null,
   "id": "8d25062b",
   "metadata": {},
   "outputs": [],
   "source": [
    "from cuml.cluster import DBSCAN, HDBSCAN, AgglomerativeClustering\n",
    "\n",
    "\n",
    "def perform_gpu_dbscan(embeddings, eps=0.5, min_samples=5):\n",
    "    dbscan = DBSCAN(eps=eps, min_samples=min_samples)\n",
    "    dbscan.fit(embeddings)\n",
    "    labels = dbscan.labels_\n",
    "    return labels\n",
    "\n",
    "\n",
    "def perform_gpu_hdbscan(embeddings, min_cluster_size=5, min_samples=5):\n",
    "    hdbscan = HDBSCAN(min_cluster_size=min_cluster_size, min_samples=min_samples)\n",
    "    hdbscan.fit(embeddings)\n",
    "    labels = hdbscan.labels_\n",
    "    return labels\n",
    "\n",
    "\n",
    "def perform_gpu_agglomerative_clustering(embeddings, n_clusters):\n",
    "    clustering = AgglomerativeClustering(n_clusters=n_clusters)\n",
    "    labels = clustering.fit_predict(embeddings)\n",
    "    return labels\n",
    "\n",
    "\n",
    "def find_optimal_clusters(embeddings, clustering_algorithm):\n",
    "    scores = []\n",
    "    max_clusters = min(10, len(embeddings))\n",
    "\n",
    "    for n_clusters in range(2, max_clusters + 1):\n",
    "        labels = clustering_algorithm(embeddings, n_clusters)\n",
    "        score = silhouette_score(embeddings, labels)\n",
    "        scores.append(score)\n",
    "\n",
    "    optimal_clusters = np.argmax(scores) + 2\n",
    "    return optimal_clusters"
   ]
  },
  {
   "cell_type": "code",
   "execution_count": null,
   "id": "a709356a",
   "metadata": {},
   "outputs": [],
   "source": [
    "# Perform GPU-accelerated DBSCAN\n",
    "gpu_dbscan_labels = perform_gpu_dbscan(embeddings, eps=0.5, min_samples=5)\n",
    "\n",
    "# Perform GPU-accelerated HDBSCAN\n",
    "gpu_hdbscan_labels = perform_gpu_hdbscan(embeddings, min_cluster_size=5, min_samples=5)\n",
    "\n",
    "# Perform GPU-accelerated Agglomerative Clustering\n",
    "gpu_agglomerative_labels = perform_gpu_agglomerative_clustering(embeddings, n_clusters=5)\n",
    "\n",
    "# Find the optimal number of clusters for each algorithm\n",
    "optimal_dbscan_clusters = find_optimal_clusters(embeddings, perform_gpu_dbscan)\n",
    "optimal_hdbscan_clusters = find_optimal_clusters(embeddings, perform_gpu_hdbscan)\n",
    "optimal_agglomerative_clusters = find_optimal_clusters(embeddings, perform_gpu_agglomerative_clustering)\n",
    "\n",
    "# Print the results\n",
    "print(\"GPU-accelerated DBSCAN Clustering:\")\n",
    "print(\"Optimal number of clusters:\", optimal_dbscan_clusters)\n",
    "print(\"Cluster labels:\", gpu_dbscan_labels)\n",
    "\n",
    "print(\"\\nGPU-accelerated HDBSCAN Clustering:\")\n",
    "print(\"Optimal number of clusters:\", optimal_hdbscan_clusters)\n",
    "print(\"Cluster labels:\", gpu_hdbscan_labels)\n",
    "\n",
    "print(\"\\nGPU-accelerated Agglomerative Clustering:\")\n",
    "print(\"Optimal number of clusters:\", optimal_agglomerative_clusters)\n",
    "print(\"Cluster labels:\", gpu_agglomerative_labels)"
   ]
  }
 ],
 "metadata": {
  "kernelspec": {
   "display_name": "Python 3 (ipykernel)",
   "language": "python",
   "name": "python3"
  },
  "language_info": {
   "codemirror_mode": {
    "name": "ipython",
    "version": 3
   },
   "file_extension": ".py",
   "mimetype": "text/x-python",
   "name": "python",
   "nbconvert_exporter": "python",
   "pygments_lexer": "ipython3",
   "version": "3.8.10"
  }
 },
 "nbformat": 4,
 "nbformat_minor": 5
}
