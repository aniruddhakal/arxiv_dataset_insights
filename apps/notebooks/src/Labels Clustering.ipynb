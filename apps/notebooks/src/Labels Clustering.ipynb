{
 "cells": [
  {
   "cell_type": "code",
   "execution_count": 1,
   "id": "2def01cd",
   "metadata": {},
   "outputs": [
    {
     "name": "stderr",
     "output_type": "stream",
     "text": [
      "/mnt/NVMe2/VirtualEnvironments/general_python_venv/lib/python3.8/site-packages/cupy/_environment.py:445: UserWarning: \n",
      "--------------------------------------------------------------------------------\n",
      "\n",
      "  CuPy may not function correctly because multiple CuPy packages are installed\n",
      "  in your environment:\n",
      "\n",
      "    cupy-cuda11x, cupy-cuda12x\n",
      "\n",
      "  Follow these steps to resolve this issue:\n",
      "\n",
      "    1. For all packages listed above, run the following command to remove all\n",
      "       existing CuPy installations:\n",
      "\n",
      "         $ pip uninstall <package_name>\n",
      "\n",
      "      If you previously installed CuPy via conda, also run the following:\n",
      "\n",
      "         $ conda uninstall cupy\n",
      "\n",
      "    2. Install the appropriate CuPy package.\n",
      "       Refer to the Installation Guide for detailed instructions.\n",
      "\n",
      "         https://docs.cupy.dev/en/stable/install.html\n",
      "\n",
      "--------------------------------------------------------------------------------\n",
      "\n",
      "  warnings.warn(f'''\n"
     ]
    }
   ],
   "source": [
    "import pandas as pd\n",
    "import cuml\n",
    "from cuml.cluster import KMeans\n",
    "import numpy as np"
   ]
  },
  {
   "cell_type": "code",
   "execution_count": 2,
   "id": "dcbb5e59",
   "metadata": {},
   "outputs": [],
   "source": [
    "import pymongo\n",
    "import pandas as pd\n",
    "import numpy as np\n",
    "from pathlib import Path\n",
    "from logging import Logger, StreamHandler"
   ]
  },
  {
   "cell_type": "code",
   "execution_count": 3,
   "id": "295814bb",
   "metadata": {},
   "outputs": [
    {
     "data": {
      "text/plain": [
       "(2258347, 4)"
      ]
     },
     "execution_count": 3,
     "metadata": {},
     "output_type": "execute_result"
    }
   ],
   "source": [
    "db_name = \"arxiv-db\"\n",
    "collection_name = \"arxiv-dataset-collection\"\n",
    "\n",
    "db = pymongo.MongoClient(host=\"localhost\", port=21000).get_database(db_name)\n",
    "collection = db[collection_name]\n",
    "\n",
    "all_data_df = pd.DataFrame(collection.find({}, {\"title\", \"abstract\", \"categories\"}))\n",
    "all_data_df.shape"
   ]
  },
  {
   "cell_type": "code",
   "execution_count": 11,
   "id": "95d58730",
   "metadata": {},
   "outputs": [
    {
     "data": {
      "text/plain": [
       "(2258347, 176)"
      ]
     },
     "execution_count": 11,
     "metadata": {},
     "output_type": "execute_result"
    }
   ],
   "source": [
    "onehot_vectors = np.load(\"onehot_vectors_arr.npy\")\n",
    "onehot_vectors = onehot_vectors.astype(np.float32)\n",
    "onehot_vectors.shape"
   ]
  },
  {
   "cell_type": "code",
   "execution_count": 12,
   "id": "5664912e",
   "metadata": {},
   "outputs": [],
   "source": [
    "import cudf"
   ]
  },
  {
   "cell_type": "code",
   "execution_count": 13,
   "id": "821e626b",
   "metadata": {
    "scrolled": true
   },
   "outputs": [
    {
     "name": "stdout",
     "output_type": "stream",
     "text": [
      "         0    1    2    3    4    5    6    7    8    9    ...  166  167  168  \\\n",
      "0        0.0  0.0  0.0  0.0  0.0  0.0  0.0  0.0  0.0  0.0  ...  0.0  0.0  0.0   \n",
      "1        0.0  0.0  0.0  0.0  0.0  0.0  0.0  0.0  0.0  0.0  ...  0.0  0.0  0.0   \n",
      "2        0.0  0.0  0.0  0.0  0.0  0.0  0.0  0.0  0.0  0.0  ...  0.0  0.0  0.0   \n",
      "3        0.0  0.0  0.0  0.0  0.0  0.0  0.0  0.0  0.0  0.0  ...  0.0  0.0  0.0   \n",
      "4        0.0  0.0  0.0  0.0  0.0  0.0  0.0  0.0  0.0  0.0  ...  0.0  0.0  0.0   \n",
      "...      ...  ...  ...  ...  ...  ...  ...  ...  ...  ...  ...  ...  ...  ...   \n",
      "2258342  0.0  0.0  0.0  0.0  0.0  0.0  0.0  0.0  0.0  0.0  ...  0.0  0.0  0.0   \n",
      "2258343  0.0  0.0  0.0  0.0  0.0  0.0  0.0  0.0  0.0  0.0  ...  0.0  0.0  0.0   \n",
      "2258344  0.0  0.0  0.0  0.0  0.0  0.0  0.0  0.0  0.0  0.0  ...  0.0  0.0  0.0   \n",
      "2258345  0.0  0.0  0.0  0.0  0.0  0.0  0.0  0.0  0.0  0.0  ...  0.0  0.0  0.0   \n",
      "2258346  0.0  0.0  0.0  0.0  0.0  0.0  0.0  0.0  0.0  0.0  ...  0.0  0.0  0.0   \n",
      "\n",
      "         169  170  171  172  173  174  175  \n",
      "0        0.0  0.0  0.0  0.0  0.0  0.0  0.0  \n",
      "1        0.0  0.0  0.0  0.0  0.0  0.0  0.0  \n",
      "2        0.0  0.0  0.0  0.0  0.0  0.0  0.0  \n",
      "3        0.0  0.0  0.0  0.0  0.0  0.0  0.0  \n",
      "4        0.0  0.0  0.0  0.0  0.0  0.0  0.0  \n",
      "...      ...  ...  ...  ...  ...  ...  ...  \n",
      "2258342  0.0  0.0  0.0  0.0  0.0  0.0  1.0  \n",
      "2258343  0.0  0.0  0.0  0.0  0.0  0.0  1.0  \n",
      "2258344  0.0  0.0  0.0  0.0  0.0  0.0  1.0  \n",
      "2258345  0.0  0.0  0.0  0.0  0.0  0.0  1.0  \n",
      "2258346  0.0  0.0  0.0  0.0  0.0  0.0  1.0  \n",
      "\n",
      "[2258347 rows x 176 columns]\n"
     ]
    }
   ],
   "source": [
    "cudf_dataframe = cudf.from_pandas(pd.DataFrame(onehot_vectors))\n",
    "\n",
    "print(cudf_dataframe)"
   ]
  },
  {
   "cell_type": "code",
   "execution_count": 15,
   "id": "0a520477",
   "metadata": {},
   "outputs": [],
   "source": [
    "from sklearn.metrics import silhouette_score"
   ]
  },
  {
   "cell_type": "code",
   "execution_count": 28,
   "id": "41e9bdf4",
   "metadata": {},
   "outputs": [
    {
     "data": {
      "text/plain": [
       "(2258347, 176)"
      ]
     },
     "execution_count": 28,
     "metadata": {},
     "output_type": "execute_result"
    }
   ],
   "source": [
    "onehot_vectors.shape"
   ]
  },
  {
   "cell_type": "code",
   "execution_count": 30,
   "id": "9c3679ff",
   "metadata": {},
   "outputs": [
    {
     "data": {
      "text/plain": [
       "(225834, 176)"
      ]
     },
     "execution_count": 30,
     "metadata": {},
     "output_type": "execute_result"
    }
   ],
   "source": [
    "num_samples = int(0.1 * len(onehot_vectors))\n",
    "\n",
    "# Generate random indices for the selected samples\n",
    "random_indices = np.random.choice(onehot_vectors.shape[0], size=num_samples, replace=False)\n",
    "random_vectors = onehot_vectors[random_indices]\n",
    "random_vectors.shape"
   ]
  },
  {
   "cell_type": "code",
   "execution_count": 31,
   "id": "4e73e19e",
   "metadata": {},
   "outputs": [],
   "source": [
    "cudf_dataframe = cudf.from_pandas(pd.DataFrame(random_vectors))"
   ]
  }
 ],
 "metadata": {
  "kernelspec": {
   "display_name": "Python 3 (ipykernel)",
   "language": "python",
   "name": "python3"
  },
  "language_info": {
   "codemirror_mode": {
    "name": "ipython",
    "version": 3
   },
   "file_extension": ".py",
   "mimetype": "text/x-python",
   "name": "python",
   "nbconvert_exporter": "python",
   "pygments_lexer": "ipython3",
   "version": "3.8.10"
  }
 },
 "nbformat": 4,
 "nbformat_minor": 5
}
